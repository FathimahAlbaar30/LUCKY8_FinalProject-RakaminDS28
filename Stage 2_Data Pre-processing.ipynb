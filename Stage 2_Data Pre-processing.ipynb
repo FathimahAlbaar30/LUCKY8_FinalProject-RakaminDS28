{
 "cells": [
  {
   "cell_type": "markdown",
   "id": "3f529b0f-efc6-476f-bfaa-6ce0ede0aefc",
   "metadata": {},
   "source": [
    "# ***STAGE 2 - DATA PRE-PROCESSING***"
   ]
  },
  {
   "cell_type": "markdown",
   "id": "8eed92d2-b58a-4073-9f42-e62190ac117c",
   "metadata": {
    "tags": []
   },
   "source": [
    "## ***Kelompok 7 - Lucky 8***"
   ]
  },
  {
   "cell_type": "markdown",
   "id": "0c496cc7-929d-4737-80bc-088f9aea292f",
   "metadata": {
    "tags": []
   },
   "source": [
    "### Nama Anggota Kelompok :\n",
    "1. Arif Budi Utomo;\n",
    "2. M. Rivaldi Anwar Putra;\n",
    "3. Natasya Indah;\n",
    "4. Fathimah Azzahra Albaar;\n",
    "5. Zahky Awal;\n",
    "6. Dony Bagaskara;\n",
    "7. Rahmawati;\n",
    "8. Venessa."
   ]
  },
  {
   "cell_type": "markdown",
   "id": "94c5b19d-fb16-45b6-88a2-56fae49fd3b8",
   "metadata": {
    "tags": []
   },
   "source": [
    "# ***SOAL***"
   ]
  },
  {
   "cell_type": "markdown",
   "id": "2035b332-97ab-4c3a-9701-f9a0b6ccb127",
   "metadata": {
    "tags": []
   },
   "source": [
    "## ***1. Data Cleansing***"
   ]
  },
  {
   "cell_type": "markdown",
   "id": "5df2d431-bd60-45a8-9a87-1a52c057e768",
   "metadata": {},
   "source": [
    "Lakukan pembersihan data, sesuai yang diajarkan di kelas, seperti\\: <br>\n",
    "A. Handle missing values <br>\n",
    "B. Handle duplicated data <br>\n",
    "C. Handle outliers <br>\n",
    "D. Feature transformation <br>\n",
    "E. Feature encoding <br>\n",
    "F. Handle class imbalance <br>\n",
    "\n",
    "Di laporan homework, tuliskan apa saja yang telah dilakukan dan metode yang digunakan.\n",
    "\n",
    "* Tetap tuliskan jika memang ada tidak yang perlu di-handle (contoh: “Tidak perlu feature encoding karena semua feature sudah numerical” atau “Outlier tidak di-handle karena akan fokus menggunakan model yang robust terhadap outlier”)."
   ]
  },
  {
   "cell_type": "markdown",
   "id": "e06d190d-87f1-430c-ab02-6ce556847dfe",
   "metadata": {
    "jp-MarkdownHeadingCollapsed": true,
    "tags": []
   },
   "source": [
    "## ***2. Feature Engineering***"
   ]
  },
  {
   "cell_type": "markdown",
   "id": "fc2fb487-fdcc-41b2-9994-451f858450fb",
   "metadata": {},
   "source": [
    "Cek feature yang ada sekarang, lalu lakukan: <br>\n",
    "A. Feature selection (membuang feature yang kurang relevan atau redundan) <br>\n",
    "B. Feature extraction (membuat feature baru dari feature yang sudah ada) <br>\n",
    "C. Tuliskan minimal 4 feature tambahan (selain yang sudah tersedia di dataset) yang mungkin akan sangat membantu membuat performansi model semakin bagus (ini hanya ide saja, untuk menguji kreativitas teman-teman, tidak perlu benar-benar dicari datanya dan tidak perlu diimplementasikan) <br>\n",
    "\n",
    "* Untuk 2A & 2B, tetap tuliskan jika memang tidak bisa dilakukan (contoh: “Semua feature digunakan untuk modelling (tidak ada yang dihapus), karena semua feature relevan”)"
   ]
  },
  {
   "cell_type": "markdown",
   "id": "05962b9d-1c87-4b73-8869-a4fd103b34e9",
   "metadata": {
    "tags": []
   },
   "source": [
    "# ***JAWABAN***"
   ]
  },
  {
   "cell_type": "markdown",
   "id": "eadc10f8-4818-48d8-aa14-3fdaa3e2132e",
   "metadata": {
    "tags": []
   },
   "source": [
    "## ***Import Libraries***"
   ]
  },
  {
   "cell_type": "code",
   "execution_count": 1,
   "id": "bd88d514-8551-4901-8066-178fbf2b0819",
   "metadata": {},
   "outputs": [
    {
     "name": "stdout",
     "output_type": "stream",
     "text": [
      "Numpy Version :  1.23.4\n",
      "Pandas Version :  1.5.2\n",
      "Seaborn Version :  0.12.1\n"
     ]
    }
   ],
   "source": [
    "import numpy as np\n",
    "import pandas as pd\n",
    "import matplotlib.pyplot as plt\n",
    "import seaborn as sns\n",
    "from sklearn.model_selection import train_test_split\n",
    "from imblearn import under_sampling, over_sampling\n",
    "\n",
    "print('Numpy Version : ', np.__version__)\n",
    "print('Pandas Version : ', pd.__version__)\n",
    "print('Seaborn Version : ', sns.__version__)"
   ]
  },
  {
   "cell_type": "markdown",
   "id": "8b85dea2-3ce0-4468-8ed0-dda5648171f7",
   "metadata": {
    "tags": []
   },
   "source": [
    "### ***Mengubah Parameter Default Matpotlib***"
   ]
  },
  {
   "cell_type": "code",
   "execution_count": 2,
   "id": "745e8c45-ac05-4468-8508-886467eb00db",
   "metadata": {},
   "outputs": [],
   "source": [
    "from matplotlib import rcParams\n",
    "\n",
    "rcParams['figure.figsize'] = 12, 4\n",
    "rcParams['lines.linewidth'] = 3\n",
    "rcParams['xtick.labelsize'] = 'x-large'\n",
    "rcParams['ytick.labelsize'] = 'x-large'"
   ]
  },
  {
   "cell_type": "markdown",
   "id": "578cdddb-cbe0-4c0b-ae52-a46a29db1be4",
   "metadata": {
    "tags": []
   },
   "source": [
    "## ***Load Dataset***"
   ]
  },
  {
   "cell_type": "code",
   "execution_count": 3,
   "id": "86e03b02-1859-49e2-9135-029ad966b076",
   "metadata": {},
   "outputs": [],
   "source": [
    "df = pd.read_csv('mc_eda.csv')"
   ]
  },
  {
   "cell_type": "code",
   "execution_count": 4,
   "id": "5ff346ef-46f1-4e54-8d16-1bce59449dc8",
   "metadata": {},
   "outputs": [
    {
     "data": {
      "text/html": [
       "<div>\n",
       "<style scoped>\n",
       "    .dataframe tbody tr th:only-of-type {\n",
       "        vertical-align: middle;\n",
       "    }\n",
       "\n",
       "    .dataframe tbody tr th {\n",
       "        vertical-align: top;\n",
       "    }\n",
       "\n",
       "    .dataframe thead th {\n",
       "        text-align: right;\n",
       "    }\n",
       "</style>\n",
       "<table border=\"1\" class=\"dataframe\">\n",
       "  <thead>\n",
       "    <tr style=\"text-align: right;\">\n",
       "      <th></th>\n",
       "      <th>ID</th>\n",
       "      <th>Year_Birth</th>\n",
       "      <th>Education</th>\n",
       "      <th>Marital_Status</th>\n",
       "      <th>Income</th>\n",
       "      <th>Kidhome</th>\n",
       "      <th>Teenhome</th>\n",
       "      <th>Dt_Customer</th>\n",
       "      <th>Recency</th>\n",
       "      <th>MntWines</th>\n",
       "      <th>...</th>\n",
       "      <th>AcceptedCmp5</th>\n",
       "      <th>AcceptedCmp1</th>\n",
       "      <th>AcceptedCmp2</th>\n",
       "      <th>Complain</th>\n",
       "      <th>Z_CostContact</th>\n",
       "      <th>Z_Revenue</th>\n",
       "      <th>Response</th>\n",
       "      <th>Age</th>\n",
       "      <th>Total_amount_spent</th>\n",
       "      <th>Total_accept_campaign</th>\n",
       "    </tr>\n",
       "  </thead>\n",
       "  <tbody>\n",
       "    <tr>\n",
       "      <th>1553</th>\n",
       "      <td>879</td>\n",
       "      <td>1976</td>\n",
       "      <td>Master</td>\n",
       "      <td>Married</td>\n",
       "      <td>49681.0</td>\n",
       "      <td>0</td>\n",
       "      <td>2</td>\n",
       "      <td>2013-11-04</td>\n",
       "      <td>66</td>\n",
       "      <td>411</td>\n",
       "      <td>...</td>\n",
       "      <td>0</td>\n",
       "      <td>0</td>\n",
       "      <td>0</td>\n",
       "      <td>0</td>\n",
       "      <td>3</td>\n",
       "      <td>11</td>\n",
       "      <td>0</td>\n",
       "      <td>44</td>\n",
       "      <td>47</td>\n",
       "      <td>0</td>\n",
       "    </tr>\n",
       "    <tr>\n",
       "      <th>346</th>\n",
       "      <td>2579</td>\n",
       "      <td>1957</td>\n",
       "      <td>Graduation</td>\n",
       "      <td>Married</td>\n",
       "      <td>71113.0</td>\n",
       "      <td>0</td>\n",
       "      <td>1</td>\n",
       "      <td>2013-12-17</td>\n",
       "      <td>95</td>\n",
       "      <td>495</td>\n",
       "      <td>...</td>\n",
       "      <td>0</td>\n",
       "      <td>0</td>\n",
       "      <td>0</td>\n",
       "      <td>0</td>\n",
       "      <td>3</td>\n",
       "      <td>11</td>\n",
       "      <td>0</td>\n",
       "      <td>63</td>\n",
       "      <td>340</td>\n",
       "      <td>0</td>\n",
       "    </tr>\n",
       "    <tr>\n",
       "      <th>511</th>\n",
       "      <td>203</td>\n",
       "      <td>1975</td>\n",
       "      <td>Master</td>\n",
       "      <td>Single</td>\n",
       "      <td>81169.0</td>\n",
       "      <td>0</td>\n",
       "      <td>0</td>\n",
       "      <td>2013-04-14</td>\n",
       "      <td>47</td>\n",
       "      <td>1288</td>\n",
       "      <td>...</td>\n",
       "      <td>0</td>\n",
       "      <td>0</td>\n",
       "      <td>0</td>\n",
       "      <td>0</td>\n",
       "      <td>3</td>\n",
       "      <td>11</td>\n",
       "      <td>0</td>\n",
       "      <td>45</td>\n",
       "      <td>801</td>\n",
       "      <td>0</td>\n",
       "    </tr>\n",
       "    <tr>\n",
       "      <th>573</th>\n",
       "      <td>1160</td>\n",
       "      <td>1970</td>\n",
       "      <td>Graduation</td>\n",
       "      <td>Married</td>\n",
       "      <td>13260.0</td>\n",
       "      <td>1</td>\n",
       "      <td>1</td>\n",
       "      <td>2013-08-23</td>\n",
       "      <td>48</td>\n",
       "      <td>9</td>\n",
       "      <td>...</td>\n",
       "      <td>0</td>\n",
       "      <td>0</td>\n",
       "      <td>0</td>\n",
       "      <td>0</td>\n",
       "      <td>3</td>\n",
       "      <td>11</td>\n",
       "      <td>0</td>\n",
       "      <td>50</td>\n",
       "      <td>40</td>\n",
       "      <td>0</td>\n",
       "    </tr>\n",
       "    <tr>\n",
       "      <th>250</th>\n",
       "      <td>2227</td>\n",
       "      <td>1958</td>\n",
       "      <td>Master</td>\n",
       "      <td>Together</td>\n",
       "      <td>26490.0</td>\n",
       "      <td>0</td>\n",
       "      <td>0</td>\n",
       "      <td>2012-09-22</td>\n",
       "      <td>92</td>\n",
       "      <td>45</td>\n",
       "      <td>...</td>\n",
       "      <td>0</td>\n",
       "      <td>0</td>\n",
       "      <td>0</td>\n",
       "      <td>0</td>\n",
       "      <td>3</td>\n",
       "      <td>11</td>\n",
       "      <td>0</td>\n",
       "      <td>62</td>\n",
       "      <td>165</td>\n",
       "      <td>0</td>\n",
       "    </tr>\n",
       "  </tbody>\n",
       "</table>\n",
       "<p>5 rows × 32 columns</p>\n",
       "</div>"
      ],
      "text/plain": [
       "        ID  Year_Birth   Education Marital_Status   Income  Kidhome  Teenhome  \\\n",
       "1553   879        1976      Master        Married  49681.0        0         2   \n",
       "346   2579        1957  Graduation        Married  71113.0        0         1   \n",
       "511    203        1975      Master         Single  81169.0        0         0   \n",
       "573   1160        1970  Graduation        Married  13260.0        1         1   \n",
       "250   2227        1958      Master       Together  26490.0        0         0   \n",
       "\n",
       "     Dt_Customer  Recency  MntWines  ...  AcceptedCmp5  AcceptedCmp1  \\\n",
       "1553  2013-11-04       66       411  ...             0             0   \n",
       "346   2013-12-17       95       495  ...             0             0   \n",
       "511   2013-04-14       47      1288  ...             0             0   \n",
       "573   2013-08-23       48         9  ...             0             0   \n",
       "250   2012-09-22       92        45  ...             0             0   \n",
       "\n",
       "      AcceptedCmp2  Complain  Z_CostContact  Z_Revenue  Response  Age  \\\n",
       "1553             0         0              3         11         0   44   \n",
       "346              0         0              3         11         0   63   \n",
       "511              0         0              3         11         0   45   \n",
       "573              0         0              3         11         0   50   \n",
       "250              0         0              3         11         0   62   \n",
       "\n",
       "      Total_amount_spent  Total_accept_campaign  \n",
       "1553                  47                      0  \n",
       "346                  340                      0  \n",
       "511                  801                      0  \n",
       "573                   40                      0  \n",
       "250                  165                      0  \n",
       "\n",
       "[5 rows x 32 columns]"
      ]
     },
     "execution_count": 4,
     "metadata": {},
     "output_type": "execute_result"
    }
   ],
   "source": [
    "df.sample(5)"
   ]
  },
  {
   "cell_type": "code",
   "execution_count": 5,
   "id": "5638078c-05a9-4a5e-a1a5-c9f57d5ae9b6",
   "metadata": {},
   "outputs": [
    {
     "name": "stdout",
     "output_type": "stream",
     "text": [
      "<class 'pandas.core.frame.DataFrame'>\n",
      "RangeIndex: 2229 entries, 0 to 2228\n",
      "Data columns (total 32 columns):\n",
      " #   Column                 Non-Null Count  Dtype  \n",
      "---  ------                 --------------  -----  \n",
      " 0   ID                     2229 non-null   int64  \n",
      " 1   Year_Birth             2229 non-null   int64  \n",
      " 2   Education              2229 non-null   object \n",
      " 3   Marital_Status         2229 non-null   object \n",
      " 4   Income                 2229 non-null   float64\n",
      " 5   Kidhome                2229 non-null   int64  \n",
      " 6   Teenhome               2229 non-null   int64  \n",
      " 7   Dt_Customer            2229 non-null   object \n",
      " 8   Recency                2229 non-null   int64  \n",
      " 9   MntWines               2229 non-null   int64  \n",
      " 10  MntFruits              2229 non-null   int64  \n",
      " 11  MntMeatProducts        2229 non-null   int64  \n",
      " 12  MntFishProducts        2229 non-null   int64  \n",
      " 13  MntSweetProducts       2229 non-null   int64  \n",
      " 14  MntGoldProds           2229 non-null   int64  \n",
      " 15  NumDealsPurchases      2229 non-null   int64  \n",
      " 16  NumWebPurchases        2229 non-null   int64  \n",
      " 17  NumCatalogPurchases    2229 non-null   int64  \n",
      " 18  NumStorePurchases      2229 non-null   int64  \n",
      " 19  NumWebVisitsMonth      2229 non-null   int64  \n",
      " 20  AcceptedCmp3           2229 non-null   int64  \n",
      " 21  AcceptedCmp4           2229 non-null   int64  \n",
      " 22  AcceptedCmp5           2229 non-null   int64  \n",
      " 23  AcceptedCmp1           2229 non-null   int64  \n",
      " 24  AcceptedCmp2           2229 non-null   int64  \n",
      " 25  Complain               2229 non-null   int64  \n",
      " 26  Z_CostContact          2229 non-null   int64  \n",
      " 27  Z_Revenue              2229 non-null   int64  \n",
      " 28  Response               2229 non-null   int64  \n",
      " 29  Age                    2229 non-null   int64  \n",
      " 30  Total_amount_spent     2229 non-null   int64  \n",
      " 31  Total_accept_campaign  2229 non-null   int64  \n",
      "dtypes: float64(1), int64(28), object(3)\n",
      "memory usage: 557.4+ KB\n"
     ]
    }
   ],
   "source": [
    "df.info()"
   ]
  },
  {
   "cell_type": "markdown",
   "id": "3760bd5a-c350-437e-8814-e4ba1dbb5b22",
   "metadata": {},
   "source": [
    "Pengamatan\\:\n",
    "1. Data terdiri dari `2229` baris;\n",
    "2. Sudah tidak ada nilai null di setiap kolom (`Non-Null Count < jumlah baris`), nilai null sudah dihandle saat EDA kemarin; dan\n",
    "3. Sepertinya terdapat issue yang mencolok pada tipe data untuk kolom `Dt_Customer`, seharusnya tipe datanya bukan object namun `datetime`.\n",
    "4. Kolom bertipe kategori : `'Education'` dan `'Marital_Status'`, nanti akan `diencoding`.\n",
    "5. Kolom `'Kidhome'` dan `'Teenhome'` akan kami jadikan satu untuk meringkas dimensi.\n",
    "6. Kolom `'MntWines', 'MntFruits', 'MntMeatProducts', 'MntFishProducts', 'MntSweetProducts', 'MntGoldProds'` (atau kedepannya akan kita sebut `himpunan kolom 'amount_spent'`) dan kolom `'AcceptedCmp1', 'AcceptedCmp2', 'AcceptedCmp3', 'AcceptedCmp4', 'AcceptedCmp5'` (atau kedepannya akan kita sebut `himpunan kolom 'cmp'`) telah kami gabungkan menjadi `'Total_accept_campaign'` saat EDA kemarin.\n",
    "7. Kolom `'Year_birth'` juga telah kita rubah menjadi kolom `'Age'` saat EDA kemarin."
   ]
  },
  {
   "cell_type": "markdown",
   "id": "a7903107-e1bc-4293-b87c-a6ff39847c18",
   "metadata": {
    "tags": []
   },
   "source": [
    "## ***Feature Extraction (2.B)***"
   ]
  },
  {
   "cell_type": "code",
   "execution_count": 6,
   "id": "cd4def71-a8c9-4f41-8be9-314b51057871",
   "metadata": {},
   "outputs": [],
   "source": [
    "# Mengcopy Dataset\n",
    "dfa = df.copy()"
   ]
  },
  {
   "cell_type": "code",
   "execution_count": 7,
   "id": "0599e4bc-be16-439b-8bea-0218f635adf9",
   "metadata": {},
   "outputs": [],
   "source": [
    "# Merubah tipe data Dt_Customer\n",
    "dfa['Dt_Customer']= pd.to_datetime(dfa['Dt_Customer'])\n",
    "\n",
    "\n",
    "dfa['Year'] = dfa[\"Dt_Customer\"].dt.year\n",
    "dfa['Month'] = dfa[\"Dt_Customer\"].dt.month"
   ]
  },
  {
   "cell_type": "code",
   "execution_count": 8,
   "id": "1a8b63ca-93ac-4820-8e6f-a5f39cd920ed",
   "metadata": {},
   "outputs": [],
   "source": [
    "# Menggabungkan kolom Kidhome dan Teenhome menjadi children\n",
    "dfa['children'] = dfa['Kidhome'] + dfa['Teenhome']"
   ]
  },
  {
   "cell_type": "markdown",
   "id": "eed183de-289f-423e-a741-aee4cae78889",
   "metadata": {
    "jp-MarkdownHeadingCollapsed": true,
    "tags": []
   },
   "source": [
    "## ***Feature Encoding (1.E)***"
   ]
  },
  {
   "cell_type": "markdown",
   "id": "d84e6981-5103-4ddc-a083-366be1e702eb",
   "metadata": {},
   "source": [
    "***Pengelompokkan Kolom***"
   ]
  },
  {
   "cell_type": "code",
   "execution_count": 9,
   "id": "911b7ffe-b26e-49a6-97ef-8e0975062b99",
   "metadata": {},
   "outputs": [],
   "source": [
    "# pengelompokan kolom berdasarkan jenisnya\n",
    "\n",
    "cats = ['Education', 'Marital_Status']\n",
    "nums = ['Year_Birth', 'Income', 'Kidhome', 'Teenhome', 'Recency', 'MntWines', 'MntFruits', 'MntMeatProducts', 'MntFishProducts', 'MntSweetProducts', 'MntGoldProds', 'NumDealsPurchases', 'NumWebPurchases', 'NumCatalogPurchases', 'NumStorePurchases', 'NumWebVisitsMonth', 'AcceptedCmp1', 'AcceptedCmp2', 'AcceptedCmp3', 'AcceptedCmp4', 'AcceptedCmp5', 'Complain', 'Z_CostContact', 'Z_Revenue', 'Response','Age','Total_amount_spent', 'Total_accept_campaign']\n",
    "timestamp = ['Dt_Customer']\n",
    "\n",
    "\n",
    "# pengelompokkan lebih spesifik untuk 'nums'\n",
    "\n",
    "amount_spent = ['MntWines', 'MntFruits', 'MntMeatProducts', 'MntFishProducts', 'MntSweetProducts', 'MntGoldProds']\n",
    "num_purchases = ['NumDealsPurchases', 'NumWebPurchases', 'NumCatalogPurchases', 'NumStorePurchases']\n",
    "cmp = ['AcceptedCmp1', 'AcceptedCmp2', 'AcceptedCmp3', 'AcceptedCmp4', 'AcceptedCmp5', 'Response']\n",
    "others1 = ['Year_Birth', 'Income', 'Kidhome', 'Teenhome', 'Recency']\n",
    "others2 = ['Complain', 'NumWebVisitsMonth', 'Age', 'Total_amount_spent', 'Total_accept_campaign']\n",
    "dt_cust = ['Year', 'Month']"
   ]
  },
  {
   "cell_type": "code",
   "execution_count": 10,
   "id": "0ca79092-1ed3-49a3-b1d6-495cdc6dbcd8",
   "metadata": {},
   "outputs": [
    {
     "name": "stdout",
     "output_type": "stream",
     "text": [
      "value counts of column Education\n",
      "Graduation    1124\n",
      "Master         570\n",
      "PhD            481\n",
      "Basic           54\n",
      "Name: Education, dtype: int64\n",
      "------------------------------ \n",
      "\n",
      "value counts of column Marital_Status\n",
      "Married     861\n",
      "Together    577\n",
      "Single      484\n",
      "Divorced    307\n",
      "Name: Marital_Status, dtype: int64\n",
      "------------------------------ \n",
      "\n"
     ]
    }
   ],
   "source": [
    "# Melihat value unique kolom Education dan Marital_Status\n",
    "for col in cats:\n",
    "  print(f'value counts of column {col}')\n",
    "  print(dfa[col].value_counts())\n",
    "  print('---'*10, '\\n')"
   ]
  },
  {
   "cell_type": "markdown",
   "id": "77f0fe89-e947-4e0c-89df-56b242b10641",
   "metadata": {},
   "source": [
    "Pengamatan : <br>\n",
    "1. Kolom `'Education'` memiliki nilai bertingkat (tipe ordinal), maka untuk proses encodingnya menggunakan `Label Encoding`.\n",
    "2. Kolom `'Marital_Status'` memiliki nilai yang tidak bertingkat (tipe nominal), maka untuk proses encodingnya menggunakan `One Hot Encoder`."
   ]
  },
  {
   "cell_type": "code",
   "execution_count": null,
   "id": "cf5cdd35-5909-4177-89d3-d35230001d62",
   "metadata": {},
   "outputs": [],
   "source": [
    "# Distribusi 'MntWines' Asli\n",
    "sns.kdeplot(dfa['MntWines'])"
   ]
  },
  {
   "cell_type": "code",
   "execution_count": null,
   "id": "153ae561-4967-4d5d-80e3-92a25b494a54",
   "metadata": {},
   "outputs": [],
   "source": [
    "# Distribusi 'MntWines' setelah Log Transformation\n",
    "sns.kdeplot(np.log(dfa['MntWines']))"
   ]
  },
  {
   "cell_type": "code",
   "execution_count": null,
   "id": "761aa274-ebb0-4dd5-9d72-ee3931c60be0",
   "metadata": {},
   "outputs": [],
   "source": [
    "# Distribusi 'MntFruits' Asli\n",
    "sns.kdeplot(dfa['MntFruits'])"
   ]
  },
  {
   "cell_type": "code",
   "execution_count": null,
   "id": "cac6f32a-c845-4005-9269-83b79fa2cf91",
   "metadata": {},
   "outputs": [],
   "source": [
    "# Distribusi 'MntFruits' setelah Log Transformation\n",
    "sns.kdeplot(np.log(dfa['MntFruits']))"
   ]
  },
  {
   "cell_type": "code",
   "execution_count": null,
   "id": "13095f72-7a01-42d1-bb18-fa91074abe0f",
   "metadata": {},
   "outputs": [],
   "source": [
    "# Distribusi 'MntMeatProducts' Asli\n",
    "sns.kdeplot(dfa['MntMeatProducts'])"
   ]
  },
  {
   "cell_type": "code",
   "execution_count": null,
   "id": "cfd9a1b2-47e4-4df3-b8c5-63b9a76117f9",
   "metadata": {},
   "outputs": [],
   "source": [
    "# Distribusi 'MntMeatProducts' setelah Log Transformation\n",
    "sns.kdeplot(np.log(dfa['MntMeatProducts']))"
   ]
  },
  {
   "cell_type": "code",
   "execution_count": null,
   "id": "2c90d5e3-7b17-489a-a493-abe4bb44d0c7",
   "metadata": {},
   "outputs": [],
   "source": [
    "# Distribusi 'MntFishProducts' Asli\n",
    "sns.kdeplot(dfa['MntFishProducts'])"
   ]
  },
  {
   "cell_type": "code",
   "execution_count": null,
   "id": "677cb67e-0a82-4cba-8c7d-a3652e6d1964",
   "metadata": {},
   "outputs": [],
   "source": [
    "# Distribusi 'MntFishProducts' setelah Log Transformation\n",
    "sns.kdeplot(np.log(dfa['MntFishProducts']))"
   ]
  },
  {
   "cell_type": "code",
   "execution_count": null,
   "id": "27d37c94-9da6-4d4d-9d86-ef727bb41346",
   "metadata": {},
   "outputs": [],
   "source": [
    "# Distribusi 'MntSweetProducts' Asli\n",
    "sns.kdeplot(dfa['MntSweetProducts'])"
   ]
  },
  {
   "cell_type": "code",
   "execution_count": null,
   "id": "4c7d1c10-8881-4db8-8d8c-3abe9cab563e",
   "metadata": {},
   "outputs": [],
   "source": [
    "# Distribusi 'MntSweetProducts' setelah Log Transformation\n",
    "sns.kdeplot(np.log(dfa['MntSweetProducts']))"
   ]
  },
  {
   "cell_type": "code",
   "execution_count": null,
   "id": "e3f78c8d-67fa-4655-856d-a4d691b91859",
   "metadata": {},
   "outputs": [],
   "source": [
    "# Distribusi 'MntGoldProds' Asli\n",
    "sns.kdeplot(dfa['MntGoldProds'])"
   ]
  },
  {
   "cell_type": "code",
   "execution_count": null,
   "id": "b9e7e619-617d-4c8d-8d5f-7d65a5b7f22c",
   "metadata": {},
   "outputs": [],
   "source": [
    "# Distribusi 'MntGoldProds' setelah Log Transformation\n",
    "sns.kdeplot(np.log(dfa['MntGoldProds']))"
   ]
  },
  {
   "cell_type": "code",
   "execution_count": null,
   "id": "8306a7ff-ec90-4533-8704-1ce595d30c46",
   "metadata": {},
   "outputs": [],
   "source": [
    "# Distribusi 'Total_amount_spent' Asli\n",
    "sns.kdeplot(dfa['Total_amount_spent'])"
   ]
  },
  {
   "cell_type": "code",
   "execution_count": null,
   "id": "d3ae0cd9-f7c2-47c2-8007-163ddcd79212",
   "metadata": {},
   "outputs": [],
   "source": [
    "# Distribusi 'Total_amount_spent' setelah Log Transformation\n",
    "sns.kdeplot(np.log(dfa['Total_amount_spent']))"
   ]
  },
  {
   "cell_type": "code",
   "execution_count": null,
   "id": "e45634f4-9132-4a6e-84b6-a2110c7f9e47",
   "metadata": {},
   "outputs": [],
   "source": [
    "# kita tranformasi\n",
    "dfa['log_wines'] = np.log(dfa['MntWines'])\n",
    "dfa['log_fruits'] = np.log(dfa['MntFruits'])\n",
    "dfa['log_meats'] = np.log(dfa['MntMeatProducts'])\n",
    "dfa['log_fish'] = np.log(dfa['MntFishProducts'])\n",
    "dfa['log_sweet'] = np.log(dfa['MntSweetProducts'])\n",
    "dfa['log_gold'] = np.log(dfa['MntGoldProds'])\n",
    "dfa['log_spent'] = np.log(dfa['Total_amount_spent'])"
   ]
  },
  {
   "cell_type": "code",
   "execution_count": 11,
   "id": "31e83266-8ec4-4b1a-b6af-edf4c91a9ff8",
   "metadata": {},
   "outputs": [],
   "source": [
    "# Mapping Education\n",
    "mapping_education = {\n",
    "    'Basic' : 0,\n",
    "    'Graduation' : 1,\n",
    "    'Master' : 2,\n",
    "    'PhD' : 3\n",
    "}\n",
    "\n",
    "dfa['Education'] = dfa['Education'].map(mapping_education)"
   ]
  },
  {
   "cell_type": "code",
   "execution_count": 12,
   "id": "cf82e595-cb0c-44f1-9ed1-df3afddb3379",
   "metadata": {},
   "outputs": [],
   "source": [
    "# One hot encoder Marital_Status\n",
    "# WARNING: run code ini sekali saja\n",
    "onehots = pd.get_dummies(dfa['Marital_Status'], prefix='Status')\n",
    "dfa = dfa.join(onehots)"
   ]
  },
  {
   "cell_type": "code",
   "execution_count": 13,
   "id": "e8f642bf-2096-4f48-9878-d4718ca72413",
   "metadata": {},
   "outputs": [
    {
     "data": {
      "text/html": [
       "<div>\n",
       "<style scoped>\n",
       "    .dataframe tbody tr th:only-of-type {\n",
       "        vertical-align: middle;\n",
       "    }\n",
       "\n",
       "    .dataframe tbody tr th {\n",
       "        vertical-align: top;\n",
       "    }\n",
       "\n",
       "    .dataframe thead th {\n",
       "        text-align: right;\n",
       "    }\n",
       "</style>\n",
       "<table border=\"1\" class=\"dataframe\">\n",
       "  <thead>\n",
       "    <tr style=\"text-align: right;\">\n",
       "      <th></th>\n",
       "      <th>ID</th>\n",
       "      <th>Year_Birth</th>\n",
       "      <th>Education</th>\n",
       "      <th>Marital_Status</th>\n",
       "      <th>Income</th>\n",
       "      <th>Kidhome</th>\n",
       "      <th>Teenhome</th>\n",
       "      <th>Dt_Customer</th>\n",
       "      <th>Recency</th>\n",
       "      <th>MntWines</th>\n",
       "      <th>...</th>\n",
       "      <th>Age</th>\n",
       "      <th>Total_amount_spent</th>\n",
       "      <th>Total_accept_campaign</th>\n",
       "      <th>Year</th>\n",
       "      <th>Month</th>\n",
       "      <th>children</th>\n",
       "      <th>Status_Divorced</th>\n",
       "      <th>Status_Married</th>\n",
       "      <th>Status_Single</th>\n",
       "      <th>Status_Together</th>\n",
       "    </tr>\n",
       "  </thead>\n",
       "  <tbody>\n",
       "    <tr>\n",
       "      <th>476</th>\n",
       "      <td>5300</td>\n",
       "      <td>1973</td>\n",
       "      <td>2</td>\n",
       "      <td>Married</td>\n",
       "      <td>38961.0</td>\n",
       "      <td>1</td>\n",
       "      <td>0</td>\n",
       "      <td>2013-12-30</td>\n",
       "      <td>60</td>\n",
       "      <td>19</td>\n",
       "      <td>...</td>\n",
       "      <td>47</td>\n",
       "      <td>51</td>\n",
       "      <td>0</td>\n",
       "      <td>2013</td>\n",
       "      <td>12</td>\n",
       "      <td>1</td>\n",
       "      <td>0</td>\n",
       "      <td>1</td>\n",
       "      <td>0</td>\n",
       "      <td>0</td>\n",
       "    </tr>\n",
       "    <tr>\n",
       "      <th>1192</th>\n",
       "      <td>7342</td>\n",
       "      <td>1961</td>\n",
       "      <td>2</td>\n",
       "      <td>Divorced</td>\n",
       "      <td>59184.0</td>\n",
       "      <td>0</td>\n",
       "      <td>1</td>\n",
       "      <td>2012-09-09</td>\n",
       "      <td>6</td>\n",
       "      <td>341</td>\n",
       "      <td>...</td>\n",
       "      <td>59</td>\n",
       "      <td>731</td>\n",
       "      <td>0</td>\n",
       "      <td>2012</td>\n",
       "      <td>9</td>\n",
       "      <td>1</td>\n",
       "      <td>1</td>\n",
       "      <td>0</td>\n",
       "      <td>0</td>\n",
       "      <td>0</td>\n",
       "    </tr>\n",
       "    <tr>\n",
       "      <th>182</th>\n",
       "      <td>10796</td>\n",
       "      <td>1984</td>\n",
       "      <td>2</td>\n",
       "      <td>Married</td>\n",
       "      <td>30477.0</td>\n",
       "      <td>1</td>\n",
       "      <td>0</td>\n",
       "      <td>2014-01-22</td>\n",
       "      <td>16</td>\n",
       "      <td>47</td>\n",
       "      <td>...</td>\n",
       "      <td>36</td>\n",
       "      <td>19</td>\n",
       "      <td>0</td>\n",
       "      <td>2014</td>\n",
       "      <td>1</td>\n",
       "      <td>1</td>\n",
       "      <td>0</td>\n",
       "      <td>1</td>\n",
       "      <td>0</td>\n",
       "      <td>0</td>\n",
       "    </tr>\n",
       "    <tr>\n",
       "      <th>1077</th>\n",
       "      <td>6072</td>\n",
       "      <td>1970</td>\n",
       "      <td>2</td>\n",
       "      <td>Single</td>\n",
       "      <td>75345.0</td>\n",
       "      <td>0</td>\n",
       "      <td>0</td>\n",
       "      <td>2013-02-02</td>\n",
       "      <td>16</td>\n",
       "      <td>918</td>\n",
       "      <td>...</td>\n",
       "      <td>50</td>\n",
       "      <td>1169</td>\n",
       "      <td>1</td>\n",
       "      <td>2013</td>\n",
       "      <td>2</td>\n",
       "      <td>0</td>\n",
       "      <td>0</td>\n",
       "      <td>0</td>\n",
       "      <td>1</td>\n",
       "      <td>0</td>\n",
       "    </tr>\n",
       "    <tr>\n",
       "      <th>261</th>\n",
       "      <td>2387</td>\n",
       "      <td>1952</td>\n",
       "      <td>2</td>\n",
       "      <td>Together</td>\n",
       "      <td>43776.0</td>\n",
       "      <td>1</td>\n",
       "      <td>1</td>\n",
       "      <td>2013-02-03</td>\n",
       "      <td>9</td>\n",
       "      <td>177</td>\n",
       "      <td>...</td>\n",
       "      <td>68</td>\n",
       "      <td>98</td>\n",
       "      <td>0</td>\n",
       "      <td>2013</td>\n",
       "      <td>2</td>\n",
       "      <td>2</td>\n",
       "      <td>0</td>\n",
       "      <td>0</td>\n",
       "      <td>0</td>\n",
       "      <td>1</td>\n",
       "    </tr>\n",
       "  </tbody>\n",
       "</table>\n",
       "<p>5 rows × 39 columns</p>\n",
       "</div>"
      ],
      "text/plain": [
       "         ID  Year_Birth  Education Marital_Status   Income  Kidhome  Teenhome  \\\n",
       "476    5300        1973          2        Married  38961.0        1         0   \n",
       "1192   7342        1961          2       Divorced  59184.0        0         1   \n",
       "182   10796        1984          2        Married  30477.0        1         0   \n",
       "1077   6072        1970          2         Single  75345.0        0         0   \n",
       "261    2387        1952          2       Together  43776.0        1         1   \n",
       "\n",
       "     Dt_Customer  Recency  MntWines  ...  Age  Total_amount_spent  \\\n",
       "476   2013-12-30       60        19  ...   47                  51   \n",
       "1192  2012-09-09        6       341  ...   59                 731   \n",
       "182   2014-01-22       16        47  ...   36                  19   \n",
       "1077  2013-02-02       16       918  ...   50                1169   \n",
       "261   2013-02-03        9       177  ...   68                  98   \n",
       "\n",
       "      Total_accept_campaign  Year  Month  children  Status_Divorced  \\\n",
       "476                       0  2013     12         1                0   \n",
       "1192                      0  2012      9         1                1   \n",
       "182                       0  2014      1         1                0   \n",
       "1077                      1  2013      2         0                0   \n",
       "261                       0  2013      2         2                0   \n",
       "\n",
       "      Status_Married  Status_Single  Status_Together  \n",
       "476                1              0                0  \n",
       "1192               0              0                0  \n",
       "182                1              0                0  \n",
       "1077               0              1                0  \n",
       "261                0              0                1  \n",
       "\n",
       "[5 rows x 39 columns]"
      ]
     },
     "execution_count": 13,
     "metadata": {},
     "output_type": "execute_result"
    }
   ],
   "source": [
    "# Melihat keberhasilan feature encoding dan extraction\n",
    "dfa.sample(5)"
   ]
  },
  {
   "cell_type": "markdown",
   "id": "9ae9daca-2b46-4676-8152-68c4a6e07be2",
   "metadata": {},
   "source": [
    "## ***Feature Selection (2.A)***"
   ]
  },
  {
   "cell_type": "markdown",
   "id": "bb79a4b3-b509-42f0-a504-ca494d6dbd1c",
   "metadata": {},
   "source": [
    "Untuk membuat model prediction response customer terhadap campaign yang akan datang, maka kami memutuskan untuk melakukan hal berikut :\n",
    "1. kolom `'Year_Birth'` akan kami hapus, dan kami akan memakai kolom `'Age'` saja.\n",
    "2. Kolom `'ID', 'Z_CostContact'`, dan `'Z_Revenue'` akan kami drop karena tidak berguna dalam memprediksi response.\n",
    "3. Kolom `'Total_accept_campaign'` akan kami pakai, dan himpunan kolom `'cmp'` akan kita drop.\n",
    "4. Kolom `'Kidhome'` dan `'Teenhome'` kita akan hapus karena sudah disatukan menjadi kolom `'child'`\n",
    "5. Kolom `'Dt-Customer'` kami juga akan drop, hanya  memakai kolom `'Year'` saja, sedangkan kolom `'Month'` akan kami hapus juga.\n",
    "6. Kolom `'Total_amount_spent'` kami akan pakai, sedangkan himpunan `'amount_spent`' nya akan kami drop.\n",
    "7. Kolom `'Marital_Status'` juga kami drop karena sudah di encoding."
   ]
  },
  {
   "cell_type": "code",
   "execution_count": 14,
   "id": "36e7826d-891c-4bc6-984b-39b995867eaa",
   "metadata": {},
   "outputs": [],
   "source": [
    "# Menghapus kolom yang tidak akan digunakan\n",
    "dfa = dfa.drop(columns = ['ID', 'Year_Birth', 'Marital_Status', 'Kidhome', 'Teenhome', 'Dt_Customer', 'MntWines', 'MntFruits', 'MntMeatProducts', 'MntFishProducts', 'MntSweetProducts', 'MntGoldProds', 'AcceptedCmp1', 'AcceptedCmp2', 'AcceptedCmp3', 'AcceptedCmp4', 'AcceptedCmp5', 'Z_CostContact', 'Z_Revenue', 'Month'])"
   ]
  },
  {
   "cell_type": "code",
   "execution_count": 15,
   "id": "e01aea6a-5396-44e4-968d-8b369f43996c",
   "metadata": {},
   "outputs": [
    {
     "data": {
      "text/html": [
       "<div>\n",
       "<style scoped>\n",
       "    .dataframe tbody tr th:only-of-type {\n",
       "        vertical-align: middle;\n",
       "    }\n",
       "\n",
       "    .dataframe tbody tr th {\n",
       "        vertical-align: top;\n",
       "    }\n",
       "\n",
       "    .dataframe thead th {\n",
       "        text-align: right;\n",
       "    }\n",
       "</style>\n",
       "<table border=\"1\" class=\"dataframe\">\n",
       "  <thead>\n",
       "    <tr style=\"text-align: right;\">\n",
       "      <th></th>\n",
       "      <th>Education</th>\n",
       "      <th>Income</th>\n",
       "      <th>Recency</th>\n",
       "      <th>NumDealsPurchases</th>\n",
       "      <th>NumWebPurchases</th>\n",
       "      <th>NumCatalogPurchases</th>\n",
       "      <th>NumStorePurchases</th>\n",
       "      <th>NumWebVisitsMonth</th>\n",
       "      <th>Complain</th>\n",
       "      <th>Response</th>\n",
       "      <th>Age</th>\n",
       "      <th>Total_amount_spent</th>\n",
       "      <th>Total_accept_campaign</th>\n",
       "      <th>Year</th>\n",
       "      <th>children</th>\n",
       "      <th>Status_Divorced</th>\n",
       "      <th>Status_Married</th>\n",
       "      <th>Status_Single</th>\n",
       "      <th>Status_Together</th>\n",
       "    </tr>\n",
       "  </thead>\n",
       "  <tbody>\n",
       "    <tr>\n",
       "      <th>586</th>\n",
       "      <td>3</td>\n",
       "      <td>39684.0</td>\n",
       "      <td>41</td>\n",
       "      <td>2</td>\n",
       "      <td>2</td>\n",
       "      <td>1</td>\n",
       "      <td>2</td>\n",
       "      <td>7</td>\n",
       "      <td>1</td>\n",
       "      <td>1</td>\n",
       "      <td>36</td>\n",
       "      <td>62</td>\n",
       "      <td>0</td>\n",
       "      <td>2012</td>\n",
       "      <td>1</td>\n",
       "      <td>0</td>\n",
       "      <td>0</td>\n",
       "      <td>1</td>\n",
       "      <td>0</td>\n",
       "    </tr>\n",
       "    <tr>\n",
       "      <th>1146</th>\n",
       "      <td>1</td>\n",
       "      <td>83145.0</td>\n",
       "      <td>14</td>\n",
       "      <td>1</td>\n",
       "      <td>5</td>\n",
       "      <td>9</td>\n",
       "      <td>11</td>\n",
       "      <td>2</td>\n",
       "      <td>0</td>\n",
       "      <td>1</td>\n",
       "      <td>46</td>\n",
       "      <td>1056</td>\n",
       "      <td>1</td>\n",
       "      <td>2012</td>\n",
       "      <td>0</td>\n",
       "      <td>0</td>\n",
       "      <td>0</td>\n",
       "      <td>0</td>\n",
       "      <td>1</td>\n",
       "    </tr>\n",
       "    <tr>\n",
       "      <th>815</th>\n",
       "      <td>1</td>\n",
       "      <td>57091.0</td>\n",
       "      <td>0</td>\n",
       "      <td>1</td>\n",
       "      <td>7</td>\n",
       "      <td>3</td>\n",
       "      <td>7</td>\n",
       "      <td>5</td>\n",
       "      <td>0</td>\n",
       "      <td>1</td>\n",
       "      <td>59</td>\n",
       "      <td>113</td>\n",
       "      <td>1</td>\n",
       "      <td>2014</td>\n",
       "      <td>0</td>\n",
       "      <td>0</td>\n",
       "      <td>0</td>\n",
       "      <td>1</td>\n",
       "      <td>0</td>\n",
       "    </tr>\n",
       "    <tr>\n",
       "      <th>1808</th>\n",
       "      <td>1</td>\n",
       "      <td>72282.0</td>\n",
       "      <td>70</td>\n",
       "      <td>1</td>\n",
       "      <td>5</td>\n",
       "      <td>7</td>\n",
       "      <td>9</td>\n",
       "      <td>7</td>\n",
       "      <td>0</td>\n",
       "      <td>1</td>\n",
       "      <td>69</td>\n",
       "      <td>828</td>\n",
       "      <td>0</td>\n",
       "      <td>2013</td>\n",
       "      <td>0</td>\n",
       "      <td>0</td>\n",
       "      <td>0</td>\n",
       "      <td>1</td>\n",
       "      <td>0</td>\n",
       "    </tr>\n",
       "    <tr>\n",
       "      <th>1467</th>\n",
       "      <td>1</td>\n",
       "      <td>39898.0</td>\n",
       "      <td>20</td>\n",
       "      <td>2</td>\n",
       "      <td>3</td>\n",
       "      <td>0</td>\n",
       "      <td>4</td>\n",
       "      <td>7</td>\n",
       "      <td>0</td>\n",
       "      <td>0</td>\n",
       "      <td>66</td>\n",
       "      <td>65</td>\n",
       "      <td>0</td>\n",
       "      <td>2013</td>\n",
       "      <td>1</td>\n",
       "      <td>0</td>\n",
       "      <td>0</td>\n",
       "      <td>0</td>\n",
       "      <td>1</td>\n",
       "    </tr>\n",
       "  </tbody>\n",
       "</table>\n",
       "</div>"
      ],
      "text/plain": [
       "      Education   Income  Recency  NumDealsPurchases  NumWebPurchases  \\\n",
       "586           3  39684.0       41                  2                2   \n",
       "1146          1  83145.0       14                  1                5   \n",
       "815           1  57091.0        0                  1                7   \n",
       "1808          1  72282.0       70                  1                5   \n",
       "1467          1  39898.0       20                  2                3   \n",
       "\n",
       "      NumCatalogPurchases  NumStorePurchases  NumWebVisitsMonth  Complain  \\\n",
       "586                     1                  2                  7         1   \n",
       "1146                    9                 11                  2         0   \n",
       "815                     3                  7                  5         0   \n",
       "1808                    7                  9                  7         0   \n",
       "1467                    0                  4                  7         0   \n",
       "\n",
       "      Response  Age  Total_amount_spent  Total_accept_campaign  Year  \\\n",
       "586          1   36                  62                      0  2012   \n",
       "1146         1   46                1056                      1  2012   \n",
       "815          1   59                 113                      1  2014   \n",
       "1808         1   69                 828                      0  2013   \n",
       "1467         0   66                  65                      0  2013   \n",
       "\n",
       "      children  Status_Divorced  Status_Married  Status_Single  \\\n",
       "586          1                0               0              1   \n",
       "1146         0                0               0              0   \n",
       "815          0                0               0              1   \n",
       "1808         0                0               0              1   \n",
       "1467         1                0               0              0   \n",
       "\n",
       "      Status_Together  \n",
       "586                 0  \n",
       "1146                1  \n",
       "815                 0  \n",
       "1808                0  \n",
       "1467                1  "
      ]
     },
     "execution_count": 15,
     "metadata": {},
     "output_type": "execute_result"
    }
   ],
   "source": [
    "# Melihat keberhasilan feature Selection\n",
    "dfa.sample(5)"
   ]
  },
  {
   "cell_type": "markdown",
   "id": "525b7b5d-3c0e-409b-82a4-a48027031a20",
   "metadata": {},
   "source": [
    "## ***Split Data Train dan Test***\n",
    "\n",
    "Untuk memulai sesi Pre-processing, kami akan memisahkan data Train dan Test terlebih dahulu. Dan yang akan kami pre-processing adalah data train saja."
   ]
  },
  {
   "cell_type": "code",
   "execution_count": 16,
   "id": "4897af9d-363d-4f58-a0c9-720161bb9d1d",
   "metadata": {},
   "outputs": [],
   "source": [
    "# Melakukan Split Dataset\n",
    "train, test = train_test_split(dfa, test_size=0.3, random_state=42)"
   ]
  },
  {
   "cell_type": "code",
   "execution_count": 20,
   "id": "bac7a423-86d6-4b7e-a4bb-cf256a8eb8bf",
   "metadata": {},
   "outputs": [
    {
     "data": {
      "text/plain": [
       "(1560, 19)"
      ]
     },
     "execution_count": 20,
     "metadata": {},
     "output_type": "execute_result"
    }
   ],
   "source": [
    "# Melihat jumlah data train\n",
    "train.shape"
   ]
  },
  {
   "cell_type": "code",
   "execution_count": 21,
   "id": "15d9b860-1e41-4511-ab44-e93e644bd32a",
   "metadata": {},
   "outputs": [
    {
     "data": {
      "text/plain": [
       "(669, 19)"
      ]
     },
     "execution_count": 21,
     "metadata": {},
     "output_type": "execute_result"
    }
   ],
   "source": [
    "# Melihat jumlah data train\n",
    "test.shape"
   ]
  },
  {
   "cell_type": "code",
   "execution_count": 22,
   "id": "76f2cfbb-73a2-4055-8ae2-36b28fe967c9",
   "metadata": {},
   "outputs": [],
   "source": [
    "train.to_csv('mc_train.csv')\n",
    "test.to_csv('mc_test.csv')"
   ]
  },
  {
   "cell_type": "code",
   "execution_count": null,
   "id": "c58910ba-7d45-4a11-9b21-517d30ef3a3d",
   "metadata": {},
   "outputs": [],
   "source": [
    "# Split Data Train dan Test\n",
    "from sklearn.model_selection import train_test_split\n",
    "train, test = train_test_split(dfa,test_size=1/3, random_state=42)"
   ]
  },
  {
   "cell_type": "code",
   "execution_count": null,
   "id": "c233a1ad-5df1-4fba-b02d-86d9e72f9f6d",
   "metadata": {},
   "outputs": [],
   "source": [
    "# Melihat Sample Data Train\n",
    "train.sample(5)"
   ]
  },
  {
   "cell_type": "code",
   "execution_count": null,
   "id": "b6f1d5ce-af3b-483f-8a86-818577043ade",
   "metadata": {},
   "outputs": [],
   "source": [
    "# Melihat Sample Data Test\n",
    "test.sample(5)"
   ]
  },
  {
   "cell_type": "code",
   "execution_count": null,
   "id": "7f2ca063-6e92-4c10-b77f-bcc1d597964b",
   "metadata": {},
   "outputs": [],
   "source": [
    "# Mencari Nilai Null\n",
    "train.isna().sum()"
   ]
  },
  {
   "cell_type": "markdown",
   "id": "195f212f-3b1e-49da-819a-e8a78948c0e3",
   "metadata": {},
   "source": [
    "Dataset sudah bersih, tidak ada missing value (pembersihan missing value sudah dilakukan saat EDA)"
   ]
  },
  {
   "cell_type": "code",
   "execution_count": null,
   "id": "688d8202-c23a-4fd4-be0d-3fe0063d1d1a",
   "metadata": {},
   "outputs": [],
   "source": [
    "# cek jumlah duplicated rows\n",
    "# dari semua kolom\n",
    "train.duplicated().sum()"
   ]
  },
  {
   "cell_type": "markdown",
   "id": "5b2ea64d-7fd9-49a4-b140-72a42e72c7bf",
   "metadata": {},
   "source": [
    "Dataset sudah tidak ada duplikat."
   ]
  },
  {
   "cell_type": "code",
   "execution_count": null,
   "id": "15408bde-8925-475e-9cab-5589259f8012",
   "metadata": {},
   "outputs": [],
   "source": [
    "train.info()"
   ]
  },
  {
   "cell_type": "code",
   "execution_count": null,
   "id": "13788731-9031-4931-bf4a-1ef3877aff9e",
   "metadata": {},
   "outputs": [],
   "source": [
    "# pengelompokan ulang kolom berdasarkan jenisnya\n",
    "\n",
    "cats = ['Education']\n",
    "nums = ['Year_Birth', 'Income', 'Kidhome', 'Teenhome', 'Recency', 'MntWines', 'MntFruits', 'MntMeatProducts', 'MntFishProducts', 'MntSweetProducts', 'MntGoldProds', 'log_wines', 'log_fruits', 'log_meats', 'log_fish', 'log_sweet', 'log_gold', 'NumDealsPurchases', 'NumWebPurchases', 'NumCatalogPurchases', 'NumStorePurchases', 'NumWebVisitsMonth','Age','log_spent', 'Total_amount_spent', 'Total_accept_campaign', 'deal_norm', 'web_norm', 'catalog_norm', 'store_norm', 'web_visit_norm', 'log_spent_norm', 'income_std', 'recency_std', 'age_std', 'Year', 'Month']\n",
    "boolean = ['AcceptedCmp1', 'AcceptedCmp2', 'AcceptedCmp3', 'AcceptedCmp4', 'AcceptedCmp5', 'Complain', 'Marital_Status_Divorced', 'Marital_Status_Married', 'Marital_Status_Single', 'Marital_Status_Together', 'Response']\n",
    "\n",
    "# pengelompokkan lebih spesifik untuk 'nums'\n",
    "\n",
    "amount_spent = ['MntWines', 'MntFruits', 'MntMeatProducts', 'MntFishProducts', 'MntSweetProducts', 'MntGoldProds', 'log_wines', 'log_fruits', 'log_meats', 'log_fish', 'log_sweet', 'log_gold']\n",
    "num_purchases = ['NumDealsPurchases', 'NumWebPurchases', 'NumCatalogPurchases', 'NumStorePurchases']\n",
    "norm = ['deal_norm', 'web_norm', 'catalog_norm', 'store_norm', 'web_visit_norm', 'log_spent_norm']\n",
    "std = ['income_std', 'recency_std', 'age_std']\n",
    "others1 = ['Year_Birth', 'Income', 'Kidhome', 'Teenhome', 'Recency', 'NumWebVisitsMonth']\n",
    "others2 = ['Age', 'log_spent', 'Total_amount_spent', 'Total_accept_campaign', 'Year', 'Month']"
   ]
  },
  {
   "cell_type": "markdown",
   "id": "5f2c3c8d-8e07-4ef9-9569-e94e3c387191",
   "metadata": {
    "jp-MarkdownHeadingCollapsed": true,
    "tags": []
   },
   "source": [
    "### 1) Melihat Outlier"
   ]
  },
  {
   "cell_type": "code",
   "execution_count": null,
   "id": "335ac98a-2944-4f4f-8cf3-e0d1b146c22c",
   "metadata": {},
   "outputs": [],
   "source": [
    "for i in range (0, len(amount_spent)) :\n",
    "    plt.subplot(4,3, i+1)\n",
    "    sns.boxplot(x=train[amount_spent[i]], color='green')\n",
    "    plt.tight_layout()"
   ]
  },
  {
   "cell_type": "code",
   "execution_count": null,
   "id": "148f15bb-950a-4bdd-b18c-743134e17b47",
   "metadata": {},
   "outputs": [],
   "source": [
    "for i in range (0, len(num_purchases)) :\n",
    "    plt.subplot(2,3, i+1)\n",
    "    sns.boxplot(x=train[num_purchases[i]], color='green')\n",
    "    plt.tight_layout()"
   ]
  },
  {
   "cell_type": "code",
   "execution_count": null,
   "id": "605c39e3-09f6-4b04-bf29-153c688d8ab2",
   "metadata": {},
   "outputs": [],
   "source": [
    "for i in range (0, len(norm)) :\n",
    "    plt.subplot(2,3, i+1)\n",
    "    sns.boxplot(x=train[norm[i]], color='green')\n",
    "    plt.tight_layout()"
   ]
  },
  {
   "cell_type": "code",
   "execution_count": null,
   "id": "34b6f0a8-5821-482d-a149-fa4e8a8a44ba",
   "metadata": {},
   "outputs": [],
   "source": [
    "for i in range (0, len(std)) :\n",
    "    plt.subplot(2,3, i+1)\n",
    "    sns.boxplot(x=train[std[i]], color='green')\n",
    "    plt.tight_layout()"
   ]
  },
  {
   "cell_type": "code",
   "execution_count": null,
   "id": "27ad1179-09c8-49f1-ac5e-0d6dfd307a75",
   "metadata": {},
   "outputs": [],
   "source": [
    "for i in range (0, len(others1)) :\n",
    "    plt.subplot(2,3, i+1)\n",
    "    sns.boxplot(x=train[others1[i]], color='green')\n",
    "    plt.tight_layout()"
   ]
  },
  {
   "cell_type": "code",
   "execution_count": null,
   "id": "2be3c347-c521-4f77-b8f0-531b0961c273",
   "metadata": {},
   "outputs": [],
   "source": [
    "for i in range (0, len(others2)) :\n",
    "    plt.subplot(2,3, i+1)\n",
    "    sns.boxplot(x=train[others2[i]], color='green')\n",
    "    plt.tight_layout()"
   ]
  },
  {
   "cell_type": "markdown",
   "id": "c9dfb7ef-5444-4a4c-871b-2a03fa106f2d",
   "metadata": {
    "tags": []
   },
   "source": [
    "### 2) Menghapus Outlier"
   ]
  },
  {
   "cell_type": "code",
   "execution_count": null,
   "id": "b334b2c1-a131-4e0f-acc3-ce7abd71d98e",
   "metadata": {},
   "outputs": [],
   "source": [
    "outlier = ['deal_norm', 'web_norm', 'catalog_norm', 'web_visit_norm', 'log_spent_norm', 'log_gold']\n",
    "from scipy import stats\n",
    "\n",
    "print(f'Jumlah baris sebelum memfilter outlier: {len(train)}')\n",
    "\n",
    "filtered_entries = np.array([True] * len(train))\n",
    "\n",
    "for col in outlier:\n",
    "    zscore = abs(stats.zscore(train[col])) # hitung absolute z-scorenya\n",
    "    filtered_entries = (zscore < 3) # keep yang kurang dari 3 absolute z-scorenya\n",
    "    \n",
    "train = train[filtered_entries] # filter, cuma ambil yang z-scorenya dibawah 3\n",
    "\n",
    "print(f'Jumlah baris setelah memfilter outlier: {len(train)}')"
   ]
  },
  {
   "cell_type": "code",
   "execution_count": null,
   "id": "155d2d45-273d-49bc-a047-a9ad5acdb136",
   "metadata": {},
   "outputs": [],
   "source": [
    "# pemisahan features vs target pada data training\n",
    "x_train = train.drop(columns=['ID','Z_CostContact', 'Z_Revenue', 'Response'])\n",
    "y_train = train[['Response']]\n",
    "print(x_train.shape)\n",
    "print(y_train.shape)"
   ]
  },
  {
   "cell_type": "code",
   "execution_count": null,
   "id": "96c0e662-393a-46c5-9675-006bc21aa4d6",
   "metadata": {},
   "outputs": [],
   "source": [
    "# pemisahan features vs target pada data testing\n",
    "x_test = test.drop(columns=['ID','Z_CostContact', 'Z_Revenue', 'Response'])\n",
    "y_test = test[['Response']]\n",
    "print(x_test.shape)\n",
    "print(y_test.shape)"
   ]
  },
  {
   "cell_type": "code",
   "execution_count": null,
   "id": "fb8e5f72-6879-4eb7-9911-e5754ff96915",
   "metadata": {},
   "outputs": [],
   "source": [
    "# Melihat keadaan Target\n",
    "y_train['Response'].value_counts()"
   ]
  },
  {
   "cell_type": "code",
   "execution_count": null,
   "id": "7f240650-3752-479b-b412-38b590fb4dff",
   "metadata": {},
   "outputs": [],
   "source": [
    "from imblearn import under_sampling, over_sampling\n",
    "x_train_under, y_train_under = under_sampling.RandomUnderSampler(sampling_strategy = 'auto').fit_resample(x_train, y_train)\n",
    "x_train_over, y_train_over = over_sampling.RandomOverSampler(sampling_strategy = 'auto').fit_resample(x_train, y_train)\n",
    "x_train_over_SMOTE, y_train_over_SMOTE = over_sampling.SMOTE(sampling_strategy = 'auto').fit_resample(x_train, y_train)"
   ]
  },
  {
   "cell_type": "code",
   "execution_count": null,
   "id": "bd9ea977-4c59-4b91-8563-6c2192c44951",
   "metadata": {},
   "outputs": [],
   "source": [
    "print('Original')\n",
    "print(y_train.value_counts())\n",
    "print('\\n')\n",
    "print('UNDERSAMPLING')\n",
    "print(y_train_under.value_counts())\n",
    "print('\\n')\n",
    "print('OVERSAMPLING')\n",
    "print(y_train_over.value_counts())\n",
    "print('\\n')\n",
    "print('SMOTE')\n",
    "print(y_train_over_SMOTE.value_counts())"
   ]
  },
  {
   "cell_type": "markdown",
   "id": "abf4c5dd-42a3-4583-b9c8-508280d61ce3",
   "metadata": {},
   "source": [
    "Kami akan menggunakan data train yang sudah di-SMOTE, karena dalam metode SMOTE dataset ditambah dengan data sintesis."
   ]
  },
  {
   "cell_type": "code",
   "execution_count": null,
   "id": "edea26f0-c84e-4d08-a0db-5227ad74785d",
   "metadata": {},
   "outputs": [],
   "source": [
    "# Mengecek kembali korelasi\n",
    "fig, ax = plt.subplots(figsize=(20,20))\n",
    "sns.heatmap(round(x_train_over_SMOTE.corr(), 2), annot = True)"
   ]
  }
 ],
 "metadata": {
  "kernelspec": {
   "display_name": "Python 3 (ipykernel)",
   "language": "python",
   "name": "python3"
  },
  "language_info": {
   "codemirror_mode": {
    "name": "ipython",
    "version": 3
   },
   "file_extension": ".py",
   "mimetype": "text/x-python",
   "name": "python",
   "nbconvert_exporter": "python",
   "pygments_lexer": "ipython3",
   "version": "3.11.0"
  }
 },
 "nbformat": 4,
 "nbformat_minor": 5
}
